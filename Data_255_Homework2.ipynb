{
 "cells": [
  {
   "cell_type": "markdown",
   "metadata": {
    "id": "D9SFEn0WS_Vg"
   },
   "source": [
    "Step 1. Follow along with the tutorial to gain an understanding of the process<br>\n",
    "Step 2. In a new .ipynb notebook, reproduce the results utilizing the \"QMNIST\" dataset"
   ]
  },
  {
   "cell_type": "code",
   "execution_count": 4,
   "metadata": {
    "id": "sSXgGCkmTFNm"
   },
   "outputs": [],
   "source": [
    "# import necessary libraries\n",
    "\n",
    "import torch\n",
    "import torch.nn as nn\n",
    "import torch.optim as optim\n",
    "import torchvision\n",
    "import torchvision.transforms as transforms\n",
    "from torch.utils.data import DataLoader\n",
    "import matplotlib.pyplot as plt\n",
    "import numpy as np"
   ]
  },
  {
   "cell_type": "code",
   "execution_count": 5,
   "metadata": {
    "colab": {
     "base_uri": "https://localhost:8080/"
    },
    "id": "HPh7qjLNS01r",
    "outputId": "6e2160b1-d8dd-4c2d-c5f7-0c69c21f3e69"
   },
   "outputs": [
    {
     "name": "stdout",
     "output_type": "stream",
     "text": [
      "Downloading https://raw.githubusercontent.com/facebookresearch/qmnist/master/qmnist-train-images-idx3-ubyte.gz to ./data/QMNIST/raw/qmnist-train-images-idx3-ubyte.gz\n"
     ]
    },
    {
     "name": "stderr",
     "output_type": "stream",
     "text": [
      "100%|██████████| 9704059/9704059 [00:00<00:00, 305101597.25it/s]"
     ]
    },
    {
     "name": "stdout",
     "output_type": "stream",
     "text": [
      "Extracting ./data/QMNIST/raw/qmnist-train-images-idx3-ubyte.gz to ./data/QMNIST/raw\n"
     ]
    },
    {
     "name": "stderr",
     "output_type": "stream",
     "text": [
      "\n"
     ]
    },
    {
     "name": "stdout",
     "output_type": "stream",
     "text": [
      "Downloading https://raw.githubusercontent.com/facebookresearch/qmnist/master/qmnist-train-labels-idx2-int.gz to ./data/QMNIST/raw/qmnist-train-labels-idx2-int.gz\n"
     ]
    },
    {
     "name": "stderr",
     "output_type": "stream",
     "text": [
      "100%|██████████| 463024/463024 [00:00<00:00, 66509021.07it/s]"
     ]
    },
    {
     "name": "stdout",
     "output_type": "stream",
     "text": [
      "Extracting ./data/QMNIST/raw/qmnist-train-labels-idx2-int.gz to ./data/QMNIST/raw\n"
     ]
    },
    {
     "name": "stderr",
     "output_type": "stream",
     "text": [
      "\n"
     ]
    },
    {
     "name": "stdout",
     "output_type": "stream",
     "text": [
      "Downloading https://raw.githubusercontent.com/facebookresearch/qmnist/master/qmnist-test-images-idx3-ubyte.gz to ./data/QMNIST/raw/qmnist-test-images-idx3-ubyte.gz\n"
     ]
    },
    {
     "name": "stderr",
     "output_type": "stream",
     "text": [
      "100%|██████████| 9742279/9742279 [00:00<00:00, 236224302.11it/s]"
     ]
    },
    {
     "name": "stdout",
     "output_type": "stream",
     "text": [
      "Extracting ./data/QMNIST/raw/qmnist-test-images-idx3-ubyte.gz to ./data/QMNIST/raw\n"
     ]
    },
    {
     "name": "stderr",
     "output_type": "stream",
     "text": [
      "\n"
     ]
    },
    {
     "name": "stdout",
     "output_type": "stream",
     "text": [
      "Downloading https://raw.githubusercontent.com/facebookresearch/qmnist/master/qmnist-test-labels-idx2-int.gz to ./data/QMNIST/raw/qmnist-test-labels-idx2-int.gz\n"
     ]
    },
    {
     "name": "stderr",
     "output_type": "stream",
     "text": [
      "100%|██████████| 526800/526800 [00:00<00:00, 44937143.53it/s]"
     ]
    },
    {
     "name": "stdout",
     "output_type": "stream",
     "text": [
      "Extracting ./data/QMNIST/raw/qmnist-test-labels-idx2-int.gz to ./data/QMNIST/raw\n"
     ]
    },
    {
     "name": "stderr",
     "output_type": "stream",
     "text": [
      "\n"
     ]
    }
   ],
   "source": [
    "# Load \"QMNIST\" dataset and preprocess\n",
    "\n",
    "# transforms.compose is used to chain together mutliple images, using a transformation pipeline  with two transformations\n",
    "# ToTensor is used to convert image to Pytorch tensor, scale pixels to (0.0, 1.0)\n",
    "# Normalizes the tensor by subracting the mean and divinding by sd. Mean and sd are 0.5, 0.5.\n",
    "transform = transforms.Compose([transforms.ToTensor(), transforms.Normalize((0.5), (0.5))])\n",
    "train_dataset = torchvision.datasets.QMNIST(root='./data', train=True, download=True, transform=transform)\n",
    "test_dataset = torchvision.datasets.QMNIST(root='./data', train=False, download=True, transform=transform)"
   ]
  },
  {
   "cell_type": "code",
   "execution_count": 6,
   "metadata": {
    "id": "5ZgCjF1kYUwM"
   },
   "outputs": [],
   "source": [
    "# Create dataloaders\n",
    "train_loader = DataLoader(train_dataset, batch_size=64, shuffle=True)\n",
    "test_loader  = DataLoader(test_dataset, batch_size=64, shuffle=False)"
   ]
  },
  {
   "cell_type": "code",
   "execution_count": 4,
   "metadata": {
    "id": "qU9xSXvWYU6f"
   },
   "outputs": [],
   "source": [
    "# show sample information\n",
    "first_sample = train_dataset[0]\n",
    "image, label = first_sample"
   ]
  },
  {
   "cell_type": "code",
   "execution_count": 5,
   "metadata": {
    "colab": {
     "base_uri": "https://localhost:8080/",
     "height": 452
    },
    "id": "YwhCXOJlYzfm",
    "outputId": "c6b5bf07-10fb-4126-f168-bf2c8686edd6"
   },
   "outputs": [
    {
     "data": {
      "image/png": "[encoded data removed]",
      "text/plain": [
       "<Figure size 640x480 with 1 Axes>"
      ]
     },
     "metadata": {},
     "output_type": "display_data"
    }
   ],
   "source": [
    "# Convert the PyTorch tensor to a NumPy array\n",
    "image_np = np.transpose(image.numpy(), (1, 2, 0))  # Assuming the image is in shape (C, H, W)\n",
    "\n",
    "# Denormalize the image (reverse the normalization process)\n",
    "image_denormalized = 0.5 * image_np + 0.5\n",
    "\n",
    "# Display the image\n",
    "plt.imshow(image_denormalized, cmap='gray')\n",
    "plt.title(f'Label: {label}')\n",
    "plt.show()\n"
   ]
  },
  {
   "cell_type": "code",
   "execution_count": 6,
   "metadata": {
    "colab": {
     "base_uri": "https://localhost:8080/"
    },
    "id": "14kpvBKl2fxk",
    "outputId": "4371445c-8a4b-499a-d3c2-56a2df33a735"
   },
   "outputs": [
    {
     "name": "stdout",
     "output_type": "stream",
     "text": [
      "unique labels [0, 1, 2, 3, 4, 5, 6, 7, 8, 9]\n"
     ]
    }
   ],
   "source": [
    "unique_labels = set()\n",
    "\n",
    "for _, label in train_dataset:\n",
    "    unique_labels.add(label)\n",
    "\n",
    "unique_labels_list = list(unique_labels)\n",
    "\n",
    "print(\"unique labels\", unique_labels_list)"
   ]
  },
  {
   "cell_type": "code",
   "execution_count": 7,
   "metadata": {
    "colab": {
     "base_uri": "https://localhost:8080/",
     "height": 675
    },
    "id": "4nOwt20H1YWk",
    "outputId": "38c06fb1-ac33-4222-b6de-ba2487ae2288"
   },
   "outputs": [
    {
     "data": {
      "image/png": "[encoded data removed]",
      "text/plain": [
       "<Figure size 800x800 with 9 Axes>"
      ]
     },
     "metadata": {},
     "output_type": "display_data"
    }
   ],
   "source": [
    "labels_map = {\n",
    "    0: \"0\",\n",
    "    1: \"1\",\n",
    "    2: \"2\",\n",
    "    3: \"3\",\n",
    "    4: \"4\",\n",
    "    5: \"5\",\n",
    "    6: \"6\",\n",
    "    7: \"7\",\n",
    "    8: \"8\",\n",
    "    9: \"9\",\n",
    "}\n",
    "\n",
    "figure = plt.figure(figsize=(8, 8))\n",
    "# Define grid to show 9 images\n",
    "cols, rows = 3, 3\n",
    "# Iterate\n",
    "for i in range(1, cols * rows + 1):\n",
    "    sample_idx = torch.randint(len(train_dataset), size=(1,)).item()\n",
    "    img, label = train_dataset[sample_idx]\n",
    "    figure.add_subplot(rows, cols, i)\n",
    "    plt.title(labels_map[label])\n",
    "    plt.axis(\"off\")\n",
    "    plt.imshow(img.squeeze(), cmap=\"gray\")\n",
    "plt.show()"
   ]
  },
  {
   "cell_type": "code",
   "execution_count": 8,
   "metadata": {
    "colab": {
     "base_uri": "https://localhost:8080/",
     "height": 675
    },
    "id": "z32O_S0vYziW",
    "outputId": "885f3380-4f29-4e9e-96e2-461f5152735f"
   },
   "outputs": [
    {
     "data": {
      "image/png": "[encoded data removed]",
      "text/plain": [
       "<Figure size 800x800 with 9 Axes>"
      ]
     },
     "metadata": {},
     "output_type": "display_data"
    }
   ],
   "source": [
    "#Test DataSet\n",
    "figure = plt.figure(figsize=(8, 8))\n",
    "cols, rows = 3, 3\n",
    "for i in range(1, cols * rows + 1):\n",
    "    sample_idx = torch.randint(len(test_dataset), size=(1,)).item()\n",
    "    img, label = test_dataset[sample_idx]\n",
    "    figure.add_subplot(rows, cols, i)\n",
    "    plt.title(labels_map[label])\n",
    "    plt.axis(\"off\")\n",
    "    plt.imshow(img.squeeze(), cmap=\"gray\")\n",
    "plt.show()"
   ]
  },
  {
   "cell_type": "code",
   "execution_count": 9,
   "metadata": {
    "id": "YjQnYDeXYzll"
   },
   "outputs": [],
   "source": [
    "# Define nn architecture\n",
    "# Define a class MLP which inherits from nn module\n",
    "class MLP(nn.Module):\n",
    "  # Dfine a constructor for MLP class, initialize the layers of nn within\n",
    "    def __init__(self):\n",
    "        # Constructor of parent class using 'super'\n",
    "        super(MLP, self).__init__()\n",
    "        # Creates the first fully connected layer, input size is 28*28 which\n",
    "        # is usually an  images, output size is 128 neurons\n",
    "        self.fc1 = nn.Linear(28*28, 128)\n",
    "        # Second fully connected layer, with input size of 128 from previous layer\n",
    "        # output size of 64\n",
    "        self.fc2 = nn.Linear(128, 64)\n",
    "        # Third fully connected layer, with input size of 64 neurons\n",
    "        # out is 10, which is inline with the number of classes\n",
    "        self.fc3 = nn.Linear(64, 10)\n",
    "\n",
    "    # Deines a forward pass, how data is processed thru layers\n",
    "    def forward(self, x):\n",
    "        # Reshapes x into 2D sensor. Using -1 as a placeholder, allowing\n",
    "        # Pytorch is automtically infer the size laong that dimension based\n",
    "        x = x.view(-1, 28*28)\n",
    "        # The reshapred input passes thru first fully connected layer, applies\n",
    "        # activation function relu - rectified linear unit to output of fc1\n",
    "        # ReLU introduces non-linearity to model by setting negative values to 0\n",
    "        x = torch.relu(self.fc1(x))\n",
    "        # Same as prior layer\n",
    "        x = torch.relu(self.fc2(x))\n",
    "        # No activation function is applied, raw outputfor each class is obtained\n",
    "        x = self.fc3(x)\n",
    "        return x\n",
    "\n",
    "# initialize the model\n",
    "model = MLP()"
   ]
  },
  {
   "cell_type": "code",
   "execution_count": 10,
   "metadata": {
    "colab": {
     "base_uri": "https://localhost:8080/"
    },
    "id": "tRKy5usDDnok",
    "outputId": "cf7b3efe-98db-4f4a-9f6b-7950350ed30c"
   },
   "outputs": [
    {
     "name": "stdout",
     "output_type": "stream",
     "text": [
      "Epoch 1, Batch 100, Loss: 0.9621492025256156\n",
      "Epoch 1, Batch 200, Loss: 0.4250109454989433\n",
      "Epoch 1, Batch 300, Loss: 0.38933383390307424\n",
      "Epoch 1, Batch 400, Loss: 0.32502142161130904\n",
      "Epoch 1, Batch 500, Loss: 0.2979604957252741\n",
      "Epoch 1, Batch 600, Loss: 0.2826373122259975\n",
      "Epoch 1, Batch 700, Loss: 0.26712387181818487\n",
      "Epoch 1, Batch 800, Loss: 0.24593285761773587\n",
      "Epoch 1, Batch 900, Loss: 0.21890168339014054\n",
      "Epoch 2, Batch 100, Loss: 0.21867671430110933\n",
      "Epoch 2, Batch 200, Loss: 0.18625396728515625\n",
      "Epoch 2, Batch 300, Loss: 0.18763508938252926\n",
      "Epoch 2, Batch 400, Loss: 0.18168044362217187\n",
      "Epoch 2, Batch 500, Loss: 0.1785512656532228\n",
      "Epoch 2, Batch 600, Loss: 0.15849911753088236\n",
      "Epoch 2, Batch 700, Loss: 0.16774379801005124\n",
      "Epoch 2, Batch 800, Loss: 0.15447987835854293\n",
      "Epoch 2, Batch 900, Loss: 0.16136079641059042\n",
      "Epoch 3, Batch 100, Loss: 0.13200416451320052\n",
      "Epoch 3, Batch 200, Loss: 0.12798839880153537\n",
      "Epoch 3, Batch 300, Loss: 0.1274131123907864\n",
      "Epoch 3, Batch 400, Loss: 0.13130060549825429\n",
      "Epoch 3, Batch 500, Loss: 0.14636310156434773\n",
      "Epoch 3, Batch 600, Loss: 0.1283192151412368\n",
      "Epoch 3, Batch 700, Loss: 0.13004343344829977\n",
      "Epoch 3, Batch 800, Loss: 0.12501881519332528\n",
      "Epoch 3, Batch 900, Loss: 0.12277726056054235\n",
      "Epoch 4, Batch 100, Loss: 0.10881900696083903\n",
      "Epoch 4, Batch 200, Loss: 0.10264080697670579\n",
      "Epoch 4, Batch 300, Loss: 0.09774093205109238\n",
      "Epoch 4, Batch 400, Loss: 0.09921634647063911\n",
      "Epoch 4, Batch 500, Loss: 0.1151038749748841\n",
      "Epoch 4, Batch 600, Loss: 0.10356098894029855\n",
      "Epoch 4, Batch 700, Loss: 0.10768870433792471\n",
      "Epoch 4, Batch 800, Loss: 0.11647361271083355\n",
      "Epoch 4, Batch 900, Loss: 0.09771448995918036\n",
      "Epoch 5, Batch 100, Loss: 0.08043960543349385\n",
      "Epoch 5, Batch 200, Loss: 0.09812830447219312\n",
      "Epoch 5, Batch 300, Loss: 0.09840827196836471\n",
      "Epoch 5, Batch 400, Loss: 0.07911165621131659\n",
      "Epoch 5, Batch 500, Loss: 0.09126512583345175\n",
      "Epoch 5, Batch 600, Loss: 0.08399192985147237\n",
      "Epoch 5, Batch 700, Loss: 0.10110424258746206\n",
      "Epoch 5, Batch 800, Loss: 0.08797988008707762\n",
      "Epoch 5, Batch 900, Loss: 0.0911344890575856\n",
      "Finished Training\n"
     ]
    }
   ],
   "source": [
    "# Define loss function and optimizer\n",
    "# this is multiclass classificiation task\n",
    "# Define loss function\n",
    "criterion = nn.CrossEntropyLoss()\n",
    "# Define Adam optimizer which is commonly used for nn,\n",
    "# takes parameter of model and lr\n",
    "optimizer = optim.Adam(model.parameters(), lr=0.001)\n",
    "\n",
    "# Train nn\n",
    "# Define number of iterations, which is 5 over entire training ds\n",
    "num_epochs = 5\n",
    "# loop thru\n",
    "for epoch in range(num_epochs):\n",
    "    # Sets the training model\n",
    "    model.train()\n",
    "    running_loss = 0.0\n",
    "    # Iterates over batches\n",
    "    for i, data in enumerate(train_loader, 0):\n",
    "        inputs, labels = data\n",
    "        # clears tge gradient before backward pass\n",
    "        optimizer.zero_grad()\n",
    "        # forward pass obtained from model predictions\n",
    "        outputs = model(inputs)\n",
    "        # computes loss between actual and predicted labels\n",
    "        loss = criterion(outputs, labels)\n",
    "        # backward pass to computer gradients of loss with respect\n",
    "        # to model parameters\n",
    "        loss.backward()\n",
    "        # update model parameters\n",
    "        optimizer.step()\n",
    "        # # accumulates the running loss\n",
    "        running_loss += loss.item()\n",
    "        # print for every 100 batches\n",
    "        if i % 100 == 99:\n",
    "            print(f'Epoch {epoch+1}, Batch {i+1}, Loss: {running_loss/100}')\n",
    "            running_loss = 0.0\n",
    "print('Finished Training')"
   ]
  },
  {
   "cell_type": "markdown",
   "metadata": {
    "id": "mzrGQZPdTqb0"
   },
   "source": [
    "Step 3. Report on the results in terms of prediction accuracy on the train and test datasets"
   ]
  },
  {
   "cell_type": "code",
   "execution_count": 16,
   "metadata": {
    "colab": {
     "base_uri": "https://localhost:8080/"
    },
    "id": "C7UgjqtLS8MH",
    "outputId": "35f3a1ca-1cc0-4ec0-a543-edcffd4d122f"
   },
   "outputs": [
    {
     "name": "stdout",
     "output_type": "stream",
     "text": [
      "Accuracy on train set: 0.9243166666666667%\n"
     ]
    }
   ],
   "source": [
    "# Evaluate on train dataset\n",
    "# Evaluate the model\n",
    "model.eval()\n",
    "correct = 0\n",
    "total = 0\n",
    "with torch.no_grad():\n",
    "    for data in train_loader:\n",
    "        images, labels = data\n",
    "        outputs = model(images)\n",
    "        _, predicted = torch.max(outputs.data, 1)\n",
    "        total += labels.size(0)\n",
    "        correct += (predicted == labels).sum().item()\n",
    "\n",
    "print(f'Accuracy on train set: { correct / total}')"
   ]
  },
  {
   "cell_type": "code",
   "execution_count": 11,
   "metadata": {
    "colab": {
     "base_uri": "https://localhost:8080/"
    },
    "id": "K_TJnoVaDnrw",
    "outputId": "6b316070-e28a-4863-c3ed-4b3118038346"
   },
   "outputs": [
    {
     "name": "stdout",
     "output_type": "stream",
     "text": [
      "Accuracy on test set : 0.96515\n"
     ]
    }
   ],
   "source": [
    "# Evaluate the model\n",
    "# Set model to eval mode, important as certain layers behave differently\n",
    "# during training and eval mode. This ensures layers are working preoperly during eval mode\n",
    "model.eval()\n",
    "# number of correctly predicted samples\n",
    "correct = 0\n",
    "# total number of samples in test dataset\n",
    "total = 0\n",
    "# disable gradient during eval, to reduce memory consumption and\n",
    "# speed up computations\n",
    "with torch.no_grad():\n",
    "    # loop thru test data\n",
    "    for data in test_loader:\n",
    "      images, labels = data\n",
    "      # forward pass to obtain predictions\n",
    "      outputs = model(images)\n",
    "      # Finds the index of max value aling second dimension to determin\n",
    "      # predicted value\n",
    "      # find number of correctley predicted and adds to correct var\n",
    "      _, predicted = torch.max(outputs.data, 1)\n",
    "      # adds total no of samples in current batch\n",
    "      total += labels.size(0)\n",
    "      correct += (predicted == labels).sum().item()\n",
    "\n",
    "# prints the accuracy on test\n",
    "print(f'Accuracy on test set : {correct/total}')\n"
   ]
  },
  {
   "cell_type": "markdown",
   "metadata": {
    "id": "yRncyoS97APD"
   },
   "source": [
    "The train accuracy is at 0.924.\n",
    "The test  accuracy is at 0.965."
   ]
  },
  {
   "cell_type": "markdown",
   "metadata": {
    "id": "jk5YIIJ660D8"
   },
   "source": [
    "Step 4. Choose one of the proposed modifications below:\n",
    "Increase the current number of nodes in the layer to 256\n",
    "\n",
    "Step 5. Modify the model based on the chosen method and train\n",
    "\n",
    "Step 6. Report on the results of the modified model and if it matches your hypothesis\n"
   ]
  },
  {
   "cell_type": "code",
   "execution_count": 7,
   "metadata": {
    "colab": {
     "base_uri": "https://localhost:8080/"
    },
    "id": "MyUtt6fr6uU7",
    "outputId": "0419aacd-1f7a-4ab2-8250-ae8001a2e450"
   },
   "outputs": [
    {
     "name": "stdout",
     "output_type": "stream",
     "text": [
      "Epoch 1, Batch 100, Loss: 0.9121754357218742\n",
      "Epoch 1, Batch 200, Loss: 0.43478208139538765\n",
      "Epoch 1, Batch 300, Loss: 0.3699024184048176\n",
      "Epoch 1, Batch 400, Loss: 0.3431335014104843\n",
      "Epoch 1, Batch 500, Loss: 0.30324044190347194\n",
      "Epoch 1, Batch 600, Loss: 0.2831197682768106\n",
      "Epoch 1, Batch 700, Loss: 0.24392057254910468\n",
      "Epoch 1, Batch 800, Loss: 0.2294036802649498\n",
      "Epoch 1, Batch 900, Loss: 0.20788953974843025\n",
      "Epoch 2, Batch 100, Loss: 0.19591262124478817\n",
      "Epoch 2, Batch 200, Loss: 0.20683618776500226\n",
      "Epoch 2, Batch 300, Loss: 0.16954208739101886\n",
      "Epoch 2, Batch 400, Loss: 0.17468042325228453\n",
      "Epoch 2, Batch 500, Loss: 0.16386450193822383\n",
      "Epoch 2, Batch 600, Loss: 0.169181207716465\n",
      "Epoch 2, Batch 700, Loss: 0.15062157412990929\n",
      "Epoch 2, Batch 800, Loss: 0.1406803495064378\n",
      "Epoch 2, Batch 900, Loss: 0.13658329878002406\n",
      "Epoch 3, Batch 100, Loss: 0.13506511420011522\n",
      "Epoch 3, Batch 200, Loss: 0.11988122407346964\n",
      "Epoch 3, Batch 300, Loss: 0.10798973420634866\n",
      "Epoch 3, Batch 400, Loss: 0.11310415137559175\n",
      "Epoch 3, Batch 500, Loss: 0.12747455531731247\n",
      "Epoch 3, Batch 600, Loss: 0.13299152337014675\n",
      "Epoch 3, Batch 700, Loss: 0.11353567434474826\n",
      "Epoch 3, Batch 800, Loss: 0.10545335851609706\n",
      "Epoch 3, Batch 900, Loss: 0.12804106962867082\n",
      "Epoch 4, Batch 100, Loss: 0.08864727446809412\n",
      "Epoch 4, Batch 200, Loss: 0.09811335825361311\n",
      "Epoch 4, Batch 300, Loss: 0.10314075053669512\n",
      "Epoch 4, Batch 400, Loss: 0.10293789641931653\n",
      "Epoch 4, Batch 500, Loss: 0.10698519358411432\n",
      "Epoch 4, Batch 600, Loss: 0.10531775302253664\n",
      "Epoch 4, Batch 700, Loss: 0.1037556052301079\n",
      "Epoch 4, Batch 800, Loss: 0.09653455007821321\n",
      "Epoch 4, Batch 900, Loss: 0.09426892780698835\n",
      "Epoch 5, Batch 100, Loss: 0.0704474973725155\n",
      "Epoch 5, Batch 200, Loss: 0.08030534098157659\n",
      "Epoch 5, Batch 300, Loss: 0.07277496952097863\n",
      "Epoch 5, Batch 400, Loss: 0.07693100583739579\n",
      "Epoch 5, Batch 500, Loss: 0.08231728321872651\n",
      "Epoch 5, Batch 600, Loss: 0.08574456005357206\n",
      "Epoch 5, Batch 700, Loss: 0.08603770918212832\n",
      "Epoch 5, Batch 800, Loss: 0.08662593185901642\n",
      "Epoch 5, Batch 900, Loss: 0.09302121018990875\n",
      "Finished Training\n",
      "Accuracy on train set : 0.97655\n",
      "Accuracy on test set: 0.9662666666666667\n"
     ]
    }
   ],
   "source": [
    "#Define the neural network architecture\n",
    "class MLP(nn.Module):\n",
    "    def __init__(self):\n",
    "        super(MLP, self).__init__()\n",
    "        self.fc1 = nn.Linear(28 * 28, 256)\n",
    "        self.fc2 = nn.Linear(256, 64)\n",
    "        self.fc3 = nn.Linear(64, 10)\n",
    "\n",
    "    def forward(self, x):\n",
    "        x = x.view(-1, 28 * 28)\n",
    "        x = torch.relu(self.fc1(x))\n",
    "        x = torch.relu(self.fc2(x))\n",
    "        x = self.fc3(x)\n",
    "        return x\n",
    "\n",
    "# Initialize the neural network\n",
    "model = MLP()\n",
    "\n",
    "\n",
    "# Define the loss function and optimizer\n",
    "criterion = nn.CrossEntropyLoss()\n",
    "optimizer = optim.Adam(model.parameters(), lr=0.001)\n",
    "\n",
    "# Train the neural network\n",
    "num_epochs = 5\n",
    "for epoch in range(num_epochs):\n",
    "    model.train()\n",
    "    running_loss = 0.0\n",
    "    for i, data in enumerate(train_loader, 0):\n",
    "        inputs, labels = data\n",
    "        optimizer.zero_grad()\n",
    "        outputs = model(inputs)\n",
    "        loss = criterion(outputs, labels)\n",
    "        loss.backward()\n",
    "        optimizer.step()\n",
    "        running_loss += loss.item()\n",
    "        if i % 100 == 99:  # print every 100 mini-batches\n",
    "            print(f'Epoch {epoch + 1}, Batch {i + 1}, Loss: {running_loss / 100}')\n",
    "            running_loss = 0.0\n",
    "\n",
    "print('Finished Training')\n",
    "\n",
    "# Evaluate the model on train\n",
    "model.eval()\n",
    "correct = 0\n",
    "total = 0\n",
    "with torch.no_grad():\n",
    "    for data in train_loader:\n",
    "        images, labels = data\n",
    "        outputs = model(images)\n",
    "        _, predicted = torch.max(outputs.data, 1)\n",
    "        total += labels.size(0)\n",
    "        correct += (predicted == labels).sum().item()\n",
    "\n",
    "print(f'Accuracy on train set : { correct / total}')\n",
    "\n",
    "\n",
    "\n",
    "# Evaluate the model on test\n",
    "model.eval()\n",
    "correct = 0\n",
    "total = 0\n",
    "with torch.no_grad():\n",
    "    for data in test_loader:\n",
    "        images, labels = data\n",
    "        outputs = model(images)\n",
    "        _, predicted = torch.max(outputs.data, 1)\n",
    "        total += labels.size(0)\n",
    "        correct += (predicted == labels).sum().item()\n",
    "\n",
    "print(f'Accuracy on test set: { correct / total}')"
   ]
  },
  {
   "cell_type": "markdown",
   "metadata": {
    "id": "RPHeZw5M9J03"
   },
   "source": [
    "Upon increasing the number of neurons from 128 to 256 in one of the hidden layer, the accuracy changed on the train dataset but decreased on the test dataset.\n",
    "\n",
    "**With 2 hidden layers, 128 neurons**:\n",
    "The train accuracy is at 0.924.\n",
    "The test  accuracy is at 0.965.\n",
    "\n",
    "**With 2 hidden layers, 256 neurons**:\n",
    "The train accuracy is at 0.977.\n",
    "The test  accuracy is at 0.966.\n",
    "\n",
    "**HYPOTHESIS**:\n",
    "Both the configurations have a good generalization with accuracies over 90%. The second configuration with 256 neurons in the hidden layer performed better on the training dataset, not much of a difference on the test dataset.\n"
   ]
  },
  {
   "cell_type": "markdown",
   "metadata": {
    "id": "FXYVDuK3_KiV"
   },
   "source": [
    "Step 7. Experiment with different optimizers, loss functions, dropout, and activation functions, and observe the change in performance as you tune these hyperparameters."
   ]
  },
  {
   "cell_type": "code",
   "execution_count": 10,
   "metadata": {
    "colab": {
     "base_uri": "https://localhost:8080/"
    },
    "id": "VUxOQ0vC_F3b",
    "outputId": "9b59e545-09d5-4ad0-dfaf-cc83739eb670"
   },
   "outputs": [
    {
     "name": "stdout",
     "output_type": "stream",
     "text": [
      "Epoch 1, Batch 100, Loss: 2.3046752548217775\n",
      "Epoch 1, Batch 200, Loss: 2.288102676868439\n",
      "Epoch 1, Batch 300, Loss: 2.267842319011688\n",
      "Epoch 1, Batch 400, Loss: 2.2471624398231507\n",
      "Epoch 1, Batch 500, Loss: 2.23373486995697\n",
      "Epoch 1, Batch 600, Loss: 2.2156960225105284\n",
      "Epoch 1, Batch 700, Loss: 2.1958187794685364\n",
      "Epoch 1, Batch 800, Loss: 2.1717891573905943\n",
      "Epoch 1, Batch 900, Loss: 2.1482464814186097\n",
      "Epoch 2, Batch 100, Loss: 2.1111663508415224\n",
      "Epoch 2, Batch 200, Loss: 2.0847871994972227\n",
      "Epoch 2, Batch 300, Loss: 2.0596769297122957\n",
      "Epoch 2, Batch 400, Loss: 2.0200118696689606\n",
      "Epoch 2, Batch 500, Loss: 1.9829500067234038\n",
      "Epoch 2, Batch 600, Loss: 1.947284438610077\n",
      "Epoch 2, Batch 700, Loss: 1.9046822798252105\n",
      "Epoch 2, Batch 800, Loss: 1.8542744302749634\n",
      "Epoch 2, Batch 900, Loss: 1.7978544735908508\n",
      "Epoch 3, Batch 100, Loss: 1.7336861753463746\n",
      "Epoch 3, Batch 200, Loss: 1.6850206005573272\n",
      "Epoch 3, Batch 300, Loss: 1.6198584961891174\n",
      "Epoch 3, Batch 400, Loss: 1.5701846921443938\n",
      "Epoch 3, Batch 500, Loss: 1.5072678923606873\n",
      "Epoch 3, Batch 600, Loss: 1.456992553472519\n",
      "Epoch 3, Batch 700, Loss: 1.3907849860191346\n",
      "Epoch 3, Batch 800, Loss: 1.3476501846313476\n",
      "Epoch 3, Batch 900, Loss: 1.2786131179332734\n",
      "Epoch 4, Batch 100, Loss: 1.2112953436374665\n",
      "Epoch 4, Batch 200, Loss: 1.183648083806038\n",
      "Epoch 4, Batch 300, Loss: 1.131031070947647\n",
      "Epoch 4, Batch 400, Loss: 1.078268719315529\n",
      "Epoch 4, Batch 500, Loss: 1.0444604080915452\n",
      "Epoch 4, Batch 600, Loss: 0.9943444842100143\n",
      "Epoch 4, Batch 700, Loss: 0.9822027111053466\n",
      "Epoch 4, Batch 800, Loss: 0.9344510453939437\n",
      "Epoch 4, Batch 900, Loss: 0.9156558030843734\n",
      "Epoch 5, Batch 100, Loss: 0.8729759120941162\n",
      "Epoch 5, Batch 200, Loss: 0.8424442881345748\n",
      "Epoch 5, Batch 300, Loss: 0.8139429134130478\n",
      "Epoch 5, Batch 400, Loss: 0.8064605879783631\n",
      "Epoch 5, Batch 500, Loss: 0.7795319825410842\n",
      "Epoch 5, Batch 600, Loss: 0.7580591988563538\n",
      "Epoch 5, Batch 700, Loss: 0.7319425165653228\n",
      "Epoch 5, Batch 800, Loss: 0.7289941954612732\n",
      "Epoch 5, Batch 900, Loss: 0.6952117323875427\n",
      "Time taken to complete training with optimizer SGD, 256 neurons in hidden layer: 95.894676 seconds\n",
      "Finished Training\n",
      "Accuracy on train set with optimizer SGD, 256 neurons in hidden layer: 0.834667\n",
      "Accuracy on test set with optimizer SGD, 256 neurons in hidden layer: 0.835250\n"
     ]
    }
   ],
   "source": [
    "# Experiment 1, with optimzer SGD, lr=0.001, relu activation\n",
    "# See how long it take for SGD optimizer\n",
    "import time\n",
    "#Define the neural network architecture\n",
    "class MLP(nn.Module):\n",
    "    def __init__(self):\n",
    "        super(MLP, self).__init__()\n",
    "        self.fc1 = nn.Linear(28 * 28, 256)\n",
    "        self.fc2 = nn.Linear(256, 64)\n",
    "        self.fc3 = nn.Linear(64, 10)\n",
    "\n",
    "    def forward(self, x):\n",
    "        x = x.view(-1, 28 * 28)\n",
    "        x = torch.relu(self.fc1(x))\n",
    "        x = torch.relu(self.fc2(x))\n",
    "        x = self.fc3(x)\n",
    "        return x\n",
    "\n",
    "# Initialize the neural network\n",
    "model = MLP()\n",
    "\n",
    "\n",
    "# Define the loss function and optimizer\n",
    "criterion = nn.CrossEntropyLoss()\n",
    "optimizer = optim.SGD(model.parameters(), lr=0.001)\n",
    "\n",
    "# Train the neural network\n",
    "# record start time\n",
    "start_time = time.time()\n",
    "num_epochs = 5\n",
    "for epoch in range(num_epochs):\n",
    "    model.train()\n",
    "    running_loss = 0.0\n",
    "    for i, data in enumerate(train_loader, 0):\n",
    "        inputs, labels = data\n",
    "        optimizer.zero_grad()\n",
    "        outputs = model(inputs)\n",
    "        loss = criterion(outputs, labels)\n",
    "        loss.backward()\n",
    "        optimizer.step()\n",
    "        running_loss += loss.item()\n",
    "        if i % 100 == 99:  # print every 100 mini-batches\n",
    "            print(f'Epoch {epoch + 1}, Batch {i + 1}, Loss: {running_loss / 100}')\n",
    "            running_loss = 0.0\n",
    "# record end time\n",
    "end_time = time.time()\n",
    "# Calculate elapsed time\n",
    "elapsed_time = end_time - start_time\n",
    "\n",
    "print(f'Time taken to complete training with optimizer SGD, 256 neurons in hidden layer: {elapsed_time:4f} seconds')\n",
    "print('Finished Training')\n",
    "\n",
    "# Evaluate the model on train\n",
    "model.eval()\n",
    "correct = 0\n",
    "total = 0\n",
    "with torch.no_grad():\n",
    "    for data in train_loader:\n",
    "        images, labels = data\n",
    "        outputs = model(images)\n",
    "        _, predicted = torch.max(outputs.data, 1)\n",
    "        total += labels.size(0)\n",
    "        correct += (predicted == labels).sum().item()\n",
    "\n",
    "print(f'# Experiment 1, Accuracy on train set with optimizer SGD, 256 neurons in hidden layer: { correct / total:3f}')\n",
    "\n",
    "# Evaluate the model on test\n",
    "model.eval()\n",
    "correct = 0\n",
    "total = 0\n",
    "with torch.no_grad():\n",
    "    for data in test_loader:\n",
    "        images, labels = data\n",
    "        outputs = model(images)\n",
    "        _, predicted = torch.max(outputs.data, 1)\n",
    "        total += labels.size(0)\n",
    "        correct += (predicted == labels).sum().item()\n",
    "\n",
    "print(f'# Experiment 1, Accuracy on test set with optimizer SGD, 256 neurons in hidden layer: { correct / total:3f}')"
   ]
  },
  {
   "cell_type": "code",
   "execution_count": 14,
   "metadata": {
    "colab": {
     "base_uri": "https://localhost:8080/"
    },
    "id": "8FCO8b39Ghy7",
    "outputId": "0f02f7e3-5ea3-4514-b672-294759c87104"
   },
   "outputs": [
    {
     "name": "stdout",
     "output_type": "stream",
     "text": [
      "Epoch 1, Batch 100, Loss: 2.2067065954208376\n",
      "Epoch 1, Batch 200, Loss: 1.876954070329666\n",
      "Epoch 1, Batch 300, Loss: 1.3531356644630432\n",
      "Epoch 1, Batch 400, Loss: 0.9505016154050827\n",
      "Epoch 1, Batch 500, Loss: 0.7400380736589431\n",
      "Epoch 1, Batch 600, Loss: 0.6260212323069573\n",
      "Epoch 1, Batch 700, Loss: 0.552189191877842\n",
      "Epoch 1, Batch 800, Loss: 0.5071370193362236\n",
      "Epoch 1, Batch 900, Loss: 0.4740216141939163\n",
      "Epoch 2, Batch 100, Loss: 0.4333972644805908\n",
      "Epoch 2, Batch 200, Loss: 0.4151847732067108\n",
      "Epoch 2, Batch 300, Loss: 0.3962256141006947\n",
      "Epoch 2, Batch 400, Loss: 0.3914231026172638\n",
      "Epoch 2, Batch 500, Loss: 0.36755448326468465\n",
      "Epoch 2, Batch 600, Loss: 0.3610346783697605\n",
      "Epoch 2, Batch 700, Loss: 0.35333085283637045\n",
      "Epoch 2, Batch 800, Loss: 0.3528887727111578\n",
      "Epoch 2, Batch 900, Loss: 0.351417283564806\n",
      "Epoch 3, Batch 100, Loss: 0.3334797301143408\n",
      "Epoch 3, Batch 200, Loss: 0.31704793266952036\n",
      "Epoch 3, Batch 300, Loss: 0.31657054349780084\n",
      "Epoch 3, Batch 400, Loss: 0.31606059700250627\n",
      "Epoch 3, Batch 500, Loss: 0.3232582399249077\n",
      "Epoch 3, Batch 600, Loss: 0.3268173822015524\n",
      "Epoch 3, Batch 700, Loss: 0.3061617536097765\n",
      "Epoch 3, Batch 800, Loss: 0.3279367381334305\n",
      "Epoch 3, Batch 900, Loss: 0.3058359391242266\n",
      "Epoch 4, Batch 100, Loss: 0.2879314787685871\n",
      "Epoch 4, Batch 200, Loss: 0.28260808542370797\n",
      "Epoch 4, Batch 300, Loss: 0.28050610452890395\n",
      "Epoch 4, Batch 400, Loss: 0.29007245905697343\n",
      "Epoch 4, Batch 500, Loss: 0.2763784511387348\n",
      "Epoch 4, Batch 600, Loss: 0.2994120668619871\n",
      "Epoch 4, Batch 700, Loss: 0.2915808768570423\n",
      "Epoch 4, Batch 800, Loss: 0.27254547640681265\n",
      "Epoch 4, Batch 900, Loss: 0.2892065892368555\n",
      "Epoch 5, Batch 100, Loss: 0.26050062358379367\n",
      "Epoch 5, Batch 200, Loss: 0.2634263576567173\n",
      "Epoch 5, Batch 300, Loss: 0.2657261949032545\n",
      "Epoch 5, Batch 400, Loss: 0.24505599401891232\n",
      "Epoch 5, Batch 500, Loss: 0.24799104556441307\n",
      "Epoch 5, Batch 600, Loss: 0.26730641528964044\n",
      "Epoch 5, Batch 700, Loss: 0.2636806443706155\n",
      "Epoch 5, Batch 800, Loss: 0.2513331350684166\n",
      "Epoch 5, Batch 900, Loss: 0.2598711124807596\n",
      "Time taken to complete training with optimizer SGD, 256 neurons in hidden layer: 79.772410 seconds\n",
      "Finished Training\n",
      "# Experiment 2, Accuracy on train set with optimizer SGD, 256 neurons in hidden layer: 0.928133\n",
      "# Experiment 2, Accuracy on test set with optimizer SGD, 256 neurons in hidden layer: 0.925283\n"
     ]
    }
   ],
   "source": [
    "# Experiment 2, with optimzer SGD, lr=0.01,relu activation\n",
    "\n",
    "# See how long it take for SGD optimizer\n",
    "import time\n",
    "#Define the neural network architecture\n",
    "class MLP(nn.Module):\n",
    "    def __init__(self):\n",
    "        super(MLP, self).__init__()\n",
    "        self.fc1 = nn.Linear(28 * 28, 256)\n",
    "        self.fc2 = nn.Linear(256, 64)\n",
    "        self.fc3 = nn.Linear(64, 10)\n",
    "\n",
    "    def forward(self, x):\n",
    "        x = x.view(-1, 28 * 28)\n",
    "        x = torch.relu(self.fc1(x))\n",
    "        x = torch.relu(self.fc2(x))\n",
    "        x = self.fc3(x)\n",
    "        return x\n",
    "\n",
    "# Initialize the neural network\n",
    "model = MLP()\n",
    "\n",
    "\n",
    "# Define the loss function and optimizer\n",
    "criterion = nn.CrossEntropyLoss()\n",
    "optimizer = optim.SGD(model.parameters(), lr=0.01)\n",
    "\n",
    "# Train the neural network\n",
    "# record start time\n",
    "start_time = time.time()\n",
    "num_epochs = 5\n",
    "for epoch in range(num_epochs):\n",
    "    model.train()\n",
    "    running_loss = 0.0\n",
    "    for i, data in enumerate(train_loader, 0):\n",
    "        inputs, labels = data\n",
    "        optimizer.zero_grad()\n",
    "        outputs = model(inputs)\n",
    "        loss = criterion(outputs, labels)\n",
    "        loss.backward()\n",
    "        optimizer.step()\n",
    "        running_loss += loss.item()\n",
    "        if i % 100 == 99:  # print every 100 mini-batches\n",
    "            print(f'Epoch {epoch + 1}, Batch {i + 1}, Loss: {running_loss / 100}')\n",
    "            running_loss = 0.0\n",
    "# record end time\n",
    "end_time = time.time()\n",
    "# Calculate elapsed time\n",
    "elapsed_time = end_time - start_time\n",
    "\n",
    "print(f'Time taken to complete training with optimizer SGD, 256 neurons in hidden layer: {elapsed_time:4f} seconds')\n",
    "print('Finished Training')\n",
    "\n",
    "# Evaluate the model on train\n",
    "model.eval()\n",
    "correct = 0\n",
    "total = 0\n",
    "with torch.no_grad():\n",
    "    for data in train_loader:\n",
    "        images, labels = data\n",
    "        outputs = model(images)\n",
    "        _, predicted = torch.max(outputs.data, 1)\n",
    "        total += labels.size(0)\n",
    "        correct += (predicted == labels).sum().item()\n",
    "\n",
    "print(f'# Experiment 2, Accuracy on train set with optimizer SGD, 256 neurons in hidden layer: { correct / total:3f}')\n",
    "\n",
    "# Evaluate the model on test\n",
    "model.eval()\n",
    "correct = 0\n",
    "total = 0\n",
    "with torch.no_grad():\n",
    "    for data in test_loader:\n",
    "        images, labels = data\n",
    "        outputs = model(images)\n",
    "        _, predicted = torch.max(outputs.data, 1)\n",
    "        total += labels.size(0)\n",
    "        correct += (predicted == labels).sum().item()\n",
    "\n",
    "print(f'# Experiment 2, Accuracy on test set with optimizer SGD, 256 neurons in hidden layer: { correct / total:3f}')"
   ]
  },
  {
   "cell_type": "code",
   "execution_count": 12,
   "metadata": {
    "colab": {
     "base_uri": "https://localhost:8080/"
    },
    "id": "qLhjzsZQ_F7N",
    "outputId": "acbaac80-5612-4dee-cb76-818b8b563d62"
   },
   "outputs": [
    {
     "name": "stdout",
     "output_type": "stream",
     "text": [
      "Epoch 1, Batch 100, Loss: 2.331490650177002\n",
      "Epoch 1, Batch 200, Loss: 2.3221409821510317\n",
      "Epoch 1, Batch 300, Loss: 2.3150864601135255\n",
      "Epoch 1, Batch 400, Loss: 2.3133491539955138\n",
      "Epoch 1, Batch 500, Loss: 2.3091562271118162\n",
      "Epoch 1, Batch 600, Loss: 2.305357439517975\n",
      "Epoch 1, Batch 700, Loss: 2.30480087518692\n",
      "Epoch 1, Batch 800, Loss: 2.3006588554382326\n",
      "Epoch 1, Batch 900, Loss: 2.3014282393455505\n",
      "Epoch 2, Batch 100, Loss: 2.3002705216407775\n",
      "Epoch 2, Batch 200, Loss: 2.2997730660438536\n",
      "Epoch 2, Batch 300, Loss: 2.2997936677932738\n",
      "Epoch 2, Batch 400, Loss: 2.2991098976135254\n",
      "Epoch 2, Batch 500, Loss: 2.299192850589752\n",
      "Epoch 2, Batch 600, Loss: 2.299509904384613\n",
      "Epoch 2, Batch 700, Loss: 2.298721635341644\n",
      "Epoch 2, Batch 800, Loss: 2.2978901648521424\n",
      "Epoch 2, Batch 900, Loss: 2.2981412053108214\n",
      "Epoch 3, Batch 100, Loss: 2.2973610019683837\n",
      "Epoch 3, Batch 200, Loss: 2.2982091546058654\n",
      "Epoch 3, Batch 300, Loss: 2.29792555809021\n",
      "Epoch 3, Batch 400, Loss: 2.2975367665290833\n",
      "Epoch 3, Batch 500, Loss: 2.29604008436203\n",
      "Epoch 3, Batch 600, Loss: 2.296190264225006\n",
      "Epoch 3, Batch 700, Loss: 2.295764763355255\n",
      "Epoch 3, Batch 800, Loss: 2.2960554552078247\n",
      "Epoch 3, Batch 900, Loss: 2.2960257148742675\n",
      "Epoch 4, Batch 100, Loss: 2.295586426258087\n",
      "Epoch 4, Batch 200, Loss: 2.2956962323188783\n",
      "Epoch 4, Batch 300, Loss: 2.2941310596466065\n",
      "Epoch 4, Batch 400, Loss: 2.2940078926086427\n",
      "Epoch 4, Batch 500, Loss: 2.2947143268585206\n",
      "Epoch 4, Batch 600, Loss: 2.2940765237808227\n",
      "Epoch 4, Batch 700, Loss: 2.2941673135757448\n",
      "Epoch 4, Batch 800, Loss: 2.294455523490906\n",
      "Epoch 4, Batch 900, Loss: 2.2946136522293092\n",
      "Epoch 5, Batch 100, Loss: 2.292826533317566\n",
      "Epoch 5, Batch 200, Loss: 2.2934769201278686\n",
      "Epoch 5, Batch 300, Loss: 2.292539803981781\n",
      "Epoch 5, Batch 400, Loss: 2.292975571155548\n",
      "Epoch 5, Batch 500, Loss: 2.2915362977981566\n",
      "Epoch 5, Batch 600, Loss: 2.291531009674072\n",
      "Epoch 5, Batch 700, Loss: 2.2923837065696717\n",
      "Epoch 5, Batch 800, Loss: 2.2934407377243042\n",
      "Epoch 5, Batch 900, Loss: 2.291094706058502\n",
      "Time taken to complete training with optimizer SGD, 256 neurons in hidden layer: 87.100694 seconds\n",
      "Finished Training\n",
      "# Experiment 3, Accuracy on train set with optimizer SGD, 256 neurons in hidden layer: 0.112367\n",
      "# Experiment 3, Accuracy on test set with optimizer SGD, 256 neurons in hidden layer: 0.113183\n"
     ]
    }
   ],
   "source": [
    "# Experiment 3, with optimzer SGD, lr=0.001, Sigmoid activation\n",
    "# See how long it take for SGD optimizer\n",
    "import time\n",
    "#Define the neural network architecture\n",
    "class MLP(nn.Module):\n",
    "    def __init__(self):\n",
    "        super(MLP, self).__init__()\n",
    "        self.fc1 = nn.Linear(28 * 28, 256)\n",
    "        self.fc2 = nn.Linear(256, 64)\n",
    "        self.fc3 = nn.Linear(64, 10)\n",
    "\n",
    "    def forward(self, x):\n",
    "        x = x.view(-1, 28 * 28)\n",
    "        x = torch.sigmoid(self.fc1(x))\n",
    "        x = torch.sigmoid(self.fc2(x))\n",
    "        x = self.fc3(x)\n",
    "        return x\n",
    "\n",
    "# Initialize the neural network\n",
    "model = MLP()\n",
    "\n",
    "\n",
    "# Define the loss function and optimizer\n",
    "criterion = nn.CrossEntropyLoss()\n",
    "optimizer = optim.SGD(model.parameters(), lr=0.001)\n",
    "\n",
    "# Train the neural network\n",
    "# record start time\n",
    "start_time = time.time()\n",
    "num_epochs = 5\n",
    "for epoch in range(num_epochs):\n",
    "    model.train()\n",
    "    running_loss = 0.0\n",
    "    for i, data in enumerate(train_loader, 0):\n",
    "        inputs, labels = data\n",
    "        optimizer.zero_grad()\n",
    "        outputs = model(inputs)\n",
    "        loss = criterion(outputs, labels)\n",
    "        loss.backward()\n",
    "        optimizer.step()\n",
    "        running_loss += loss.item()\n",
    "        if i % 100 == 99:  # print every 100 mini-batches\n",
    "            print(f'Epoch {epoch + 1}, Batch {i + 1}, Loss: {running_loss / 100}')\n",
    "            running_loss = 0.0\n",
    "# record end time\n",
    "end_time = time.time()\n",
    "# Calculate elapsed time\n",
    "elapsed_time = end_time - start_time\n",
    "\n",
    "print(f'Time taken to complete training with optimizer SGD, 256 neurons in hidden layer: {elapsed_time:4f} seconds')\n",
    "print('Finished Training')\n",
    "\n",
    "# Evaluate the model on train\n",
    "model.eval()\n",
    "correct = 0\n",
    "total = 0\n",
    "with torch.no_grad():\n",
    "    for data in train_loader:\n",
    "        images, labels = data\n",
    "        outputs = model(images)\n",
    "        _, predicted = torch.max(outputs.data, 1)\n",
    "        total += labels.size(0)\n",
    "        correct += (predicted == labels).sum().item()\n",
    "\n",
    "print(f'# Experiment 3, Accuracy on train set with optimizer SGD, 256 neurons in hidden layer: { correct / total:3f}')\n",
    "\n",
    "# Evaluate the model on test\n",
    "model.eval()\n",
    "correct = 0\n",
    "total = 0\n",
    "with torch.no_grad():\n",
    "    for data in test_loader:\n",
    "        images, labels = data\n",
    "        outputs = model(images)\n",
    "        _, predicted = torch.max(outputs.data, 1)\n",
    "        total += labels.size(0)\n",
    "        correct += (predicted == labels).sum().item()\n",
    "\n",
    "print(f'# Experiment 3, Accuracy on test set with optimizer SGD, 256 neurons in hidden layer: { correct / total:3f}')"
   ]
  },
  {
   "cell_type": "code",
   "execution_count": 13,
   "metadata": {
    "colab": {
     "base_uri": "https://localhost:8080/"
    },
    "id": "aupTj7wQ6uc2",
    "outputId": "2bee921c-8583-44cc-99fe-2baf97c09ce3"
   },
   "outputs": [
    {
     "name": "stdout",
     "output_type": "stream",
     "text": [
      "Epoch 1, Batch 100, Loss: 2.317882363796234\n",
      "Epoch 1, Batch 200, Loss: 2.2998710918426513\n",
      "Epoch 1, Batch 300, Loss: 2.296475350856781\n",
      "Epoch 1, Batch 400, Loss: 2.2943694853782652\n",
      "Epoch 1, Batch 500, Loss: 2.2911573386192323\n",
      "Epoch 1, Batch 600, Loss: 2.289230082035065\n",
      "Epoch 1, Batch 700, Loss: 2.2865749287605284\n",
      "Epoch 1, Batch 800, Loss: 2.2834078955650328\n",
      "Epoch 1, Batch 900, Loss: 2.28136878490448\n",
      "Epoch 2, Batch 100, Loss: 2.2772333788871766\n",
      "Epoch 2, Batch 200, Loss: 2.271771824359894\n",
      "Epoch 2, Batch 300, Loss: 2.2689205956459046\n",
      "Epoch 2, Batch 400, Loss: 2.264391310214996\n",
      "Epoch 2, Batch 500, Loss: 2.2610004854202272\n",
      "Epoch 2, Batch 600, Loss: 2.2554412341117858\n",
      "Epoch 2, Batch 700, Loss: 2.2487022566795347\n",
      "Epoch 2, Batch 800, Loss: 2.2429858231544495\n",
      "Epoch 2, Batch 900, Loss: 2.234431893825531\n",
      "Epoch 3, Batch 100, Loss: 2.2227804255485535\n",
      "Epoch 3, Batch 200, Loss: 2.209872488975525\n",
      "Epoch 3, Batch 300, Loss: 2.20202431678772\n",
      "Epoch 3, Batch 400, Loss: 2.1826230478286743\n",
      "Epoch 3, Batch 500, Loss: 2.169681980609894\n",
      "Epoch 3, Batch 600, Loss: 2.1465751338005066\n",
      "Epoch 3, Batch 700, Loss: 2.127248213291168\n",
      "Epoch 3, Batch 800, Loss: 2.1046522426605225\n",
      "Epoch 3, Batch 900, Loss: 2.0801301646232604\n",
      "Epoch 4, Batch 100, Loss: 2.0300558376312257\n",
      "Epoch 4, Batch 200, Loss: 2.01041851401329\n",
      "Epoch 4, Batch 300, Loss: 1.96434720993042\n",
      "Epoch 4, Batch 400, Loss: 1.914210604429245\n",
      "Epoch 4, Batch 500, Loss: 1.8769102132320403\n",
      "Epoch 4, Batch 600, Loss: 1.841085798740387\n",
      "Epoch 4, Batch 700, Loss: 1.8033911991119385\n",
      "Epoch 4, Batch 800, Loss: 1.7474863409996033\n",
      "Epoch 4, Batch 900, Loss: 1.7131016743183136\n",
      "Epoch 5, Batch 100, Loss: 1.6390568780899049\n",
      "Epoch 5, Batch 200, Loss: 1.5924455118179321\n",
      "Epoch 5, Batch 300, Loss: 1.5363440942764282\n",
      "Epoch 5, Batch 400, Loss: 1.4937633061408997\n",
      "Epoch 5, Batch 500, Loss: 1.4670581388473511\n",
      "Epoch 5, Batch 600, Loss: 1.4113729727268218\n",
      "Epoch 5, Batch 700, Loss: 1.3768308401107787\n",
      "Epoch 5, Batch 800, Loss: 1.3248331940174103\n",
      "Epoch 5, Batch 900, Loss: 1.2904359030723571\n",
      "Time taken to complete training with optimizer SGD, 256 neurons in hidden layer: 93.245087 seconds\n",
      "Finished Training\n",
      "# Experiment 4, Accuracy on train set with optimizer SGD, 256 neurons in hidden layer: 0.662200\n",
      "# Experiment 4, Accuracy on test set with optimizer SGD, 256 neurons in hidden layer: 0.663633\n"
     ]
    }
   ],
   "source": [
    "# Experiment 4, with optimzer SGD, lr=0.01, Sigmoid activation\n",
    "# See how long it take for SGD optimizer\n",
    "import time\n",
    "#Define the neural network architecture\n",
    "class MLP(nn.Module):\n",
    "    def __init__(self):\n",
    "        super(MLP, self).__init__()\n",
    "        self.fc1 = nn.Linear(28 * 28, 256)\n",
    "        self.fc2 = nn.Linear(256, 64)\n",
    "        self.fc3 = nn.Linear(64, 10)\n",
    "\n",
    "    def forward(self, x):\n",
    "        x = x.view(-1, 28 * 28)\n",
    "        x = torch.sigmoid(self.fc1(x))\n",
    "        x = torch.sigmoid(self.fc2(x))\n",
    "        x = self.fc3(x)\n",
    "        return x\n",
    "\n",
    "# Initialize the neural network\n",
    "model = MLP()\n",
    "\n",
    "\n",
    "# Define the loss function and optimizer\n",
    "criterion = nn.CrossEntropyLoss()\n",
    "optimizer = optim.SGD(model.parameters(), lr=0.01)\n",
    "\n",
    "# Train the neural network\n",
    "# record start time\n",
    "start_time = time.time()\n",
    "num_epochs = 5\n",
    "for epoch in range(num_epochs):\n",
    "    model.train()\n",
    "    running_loss = 0.0\n",
    "    for i, data in enumerate(train_loader, 0):\n",
    "        inputs, labels = data\n",
    "        optimizer.zero_grad()\n",
    "        outputs = model(inputs)\n",
    "        loss = criterion(outputs, labels)\n",
    "        loss.backward()\n",
    "        optimizer.step()\n",
    "        running_loss += loss.item()\n",
    "        if i % 100 == 99:  # print every 100 mini-batches\n",
    "            print(f'Epoch {epoch + 1}, Batch {i + 1}, Loss: {running_loss / 100}')\n",
    "            running_loss = 0.0\n",
    "# record end time\n",
    "end_time = time.time()\n",
    "# Calculate elapsed time\n",
    "elapsed_time = end_time - start_time\n",
    "\n",
    "print(f'Time taken to complete training with optimizer SGD, 256 neurons in hidden layer: {elapsed_time:4f} seconds')\n",
    "print('Finished Training')\n",
    "\n",
    "# Evaluate the model on train\n",
    "model.eval()\n",
    "correct = 0\n",
    "total = 0\n",
    "with torch.no_grad():\n",
    "    for data in train_loader:\n",
    "        images, labels = data\n",
    "        outputs = model(images)\n",
    "        _, predicted = torch.max(outputs.data, 1)\n",
    "        total += labels.size(0)\n",
    "        correct += (predicted == labels).sum().item()\n",
    "\n",
    "print(f'# Experiment 4, Accuracy on train set with optimizer SGD, 256 neurons in hidden layer: { correct / total:3f}')\n",
    "\n",
    "# Evaluate the model on test\n",
    "model.eval()\n",
    "correct = 0\n",
    "total = 0\n",
    "with torch.no_grad():\n",
    "    for data in test_loader:\n",
    "        images, labels = data\n",
    "        outputs = model(images)\n",
    "        _, predicted = torch.max(outputs.data, 1)\n",
    "        total += labels.size(0)\n",
    "        correct += (predicted == labels).sum().item()\n",
    "\n",
    "print(f'# Experiment 4, Accuracy on test set with optimizer SGD, 256 neurons in hidden layer: { correct / total:3f}')"
   ]
  },
  {
   "cell_type": "markdown",
   "metadata": {
    "id": "u9a13eUDH8se"
   },
   "source": [
    "FINAL RESULTS:\n",
    "\n",
    "\n",
    "Experiment 1  (optimzer SGD, lr=0.001, relu activation:\n",
    "Time taken to complete training with optimizer SGD, 256 neurons in hidden layer: 95.894676 seconds\n",
    "Finished Training\n",
    "Accuracy on train set with optimizer SGD, 256 neurons in hidden layer: 0.834667\n",
    "Accuracy on test set with optimizer SGD, 256 neurons in hidden layer: 0.835250\n",
    "\n",
    "Experiment 2 (optimzer SGD, lr=0.01, relu activation):\n",
    "Time taken to complete training with optimizer SGD, 256 neurons in hidden layer: 79.772410 seconds\n",
    "Finished Training\n",
    "Experiment 2, Accuracy on train set with optimizer SGD, 256 neurons in hidden layer: 0.928133\n",
    "Experiment 2, Accuracy on test set with optimizer SGD, 256 neurons in hidden layer: 0.925283\n",
    "\n",
    "**Incase of experiment 1 and 2, having optimzer SGD, relu activation, but different learning rates of 0.001 and 0.01 shows that Experiment 2 performed better than Experiement 1 in terms of accuracy as weil las the time taken to complete training. The experiment shows the model is able to generalize better with a learning rate of 0.01, implying the model performs better at lower learning rate.**\n",
    "\n",
    " Experiment 3 (optimzer SGD, lr=0.001, Sigmoid activation):\n",
    " Time taken to complete training with optimizer SGD, 256 neurons in hidden layer: 87.100694 seconds\n",
    "Finished Training\n",
    "Experiment 3, Accuracy on train set with optimizer SGD, 256 neurons in hidden layer: 0.112367\n",
    "Experiment 3, Accuracy on test set with optimizer SGD, 256 neurons in hidden layer: 0.113183\n",
    "\n",
    "Experiment 4(optimzer SGD, lr=0.01, Sigmoid activation):\n",
    "Time taken to complete training with optimizer SGD, 256 neurons in hidden layer: 93.245087 seconds\n",
    "Finished Training\n",
    "Experiment 4, Accuracy on train set with optimizer SGD, 256 neurons in hidden layer: 0.662200\n",
    "Experiment 4, Accuracy on test set with optimizer SGD, 256 neurons in hidden layer: 0.663633\n",
    "\n",
    "**Incase of experiment 3 and 4, having optimzer SGD, Sigmoid activation, but different learning rates of 0.001 and 0.01 shows that experiment 3 has a very poor accuracy on train and test dataset(0.1133 and 0.113) as compared to 0.662 and 0.663 maybe the model converges very slowly and may not reach the optimal solution. Experiment 3 may also be stuck in local minima, leading to poor convergence. The model may underfit the data leading to the very low accuracy. Experiement 3 took 87 seconds to complete the training and Experiment 4 took 93 seconds. In case of experiemtn 3 and 4, the learning rate of 0.01 appears to be more suitable with a slightly better accuracy.**"
   ]
  },
  {
   "cell_type": "code",
   "execution_count": null,
   "metadata": {
    "id": "R6FWFTDoIAKL"
   },
   "outputs": [],
   "source": []
  }
 ],
 "metadata": {
  "colab": {
   "provenance": []
  },
  "kernelspec": {
   "display_name": "Python 3 (ipykernel)",
   "language": "python",
   "name": "python3"
  },
  "language_info": {
   "codemirror_mode": {
    "name": "ipython",
    "version": 3
   },
   "file_extension": ".py",
   "mimetype": "text/x-python",
   "name": "python",
   "nbconvert_exporter": "python",
   "pygments_lexer": "ipython3",
   "version": "3.11.4"
  }
 },
 "nbformat": 4,
 "nbformat_minor": 1
}
